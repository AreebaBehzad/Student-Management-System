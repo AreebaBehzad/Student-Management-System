{
 "cells": [
  {
   "cell_type": "code",
   "execution_count": null,
   "id": "e1b87382-8524-44c6-8e28-831ec018fabf",
   "metadata": {},
   "outputs": [],
   "source": [
    "class Student:\n",
    "    def __init__(self, name, age, roll_number):\n",
    "        self.name = name\n",
    "        self.age = age\n",
    "        self.roll_number = roll_number\n",
    "        self.enrolled_courses = []\n",
    "        self.grades = {}\n",
    "\n",
    "    def enroll_course(self, course_name):\n",
    "        self.enrolled_courses.append(course_name)\n",
    "\n",
    "    def record_grade(self, course_name, grade):\n",
    "        self.grades[course_name] = grade\n",
    "\n",
    "    def view_enrolled_courses(self):\n",
    "        return self.enrolled_courses\n",
    "\n",
    "    def view_grades(self):\n",
    "        return self.grades\n",
    "\n",
    "# Creating student instances\n",
    "student1 = Student(\"Areeba\" , 18, \"S001\")\n",
    "student2 = Student(\"Ali\", 21, \"S002\")\n",
    "student3 = Student(\"Sana\", 20, \"S003\")\n",
    "\n",
    "# Enrolling students in courses and recording grades\n",
    "student1.enroll_course(\"OOP\")\n",
    "student1.enroll_course(\"CC\")\n",
    "student1.record_grade(\"OOP\", \"B\")\n",
    "student1.record_grade(\"CC\", \"A\")\n",
    "\n",
    "student2.enroll_course(\"OOP\")\n",
    "student2.enroll_course(\"DAA\")\n",
    "student2.record_grade(\"OOP\", \"A\")\n",
    "student2.record_grade(\"DAA\", \"B\")\n",
    "\n",
    "student3.enroll_course(\"DLD\")\n",
    "student3.enroll_course(\"PF\")\n",
    "student3.record_grade(\"DLD\", \"A\")\n",
    "student3.record_grade(\"PF\", \"A\")\n",
    "\n",
    "# Displaying data for each student\n",
    "print(\"Student 1 - Name:\", student1.name)\n",
    "print(\"Enrolled Courses:\", student1.view_enrolled_courses())\n",
    "print(\"Grades:\", student1.view_grades())\n",
    "print()\n",
    "\n",
    "print(\"Student 2 - Name:\", student2.name)\n",
    "print(\"Enrolled Courses:\", student2.view_enrolled_courses())\n",
    "print(\"Grades:\", student2.view_grades())\n",
    "print()\n",
    "\n",
    "print(\"Student 3 - Name:\", student3.name)\n",
    "print(\"Enrolled Courses:\", student3.view_enrolled_courses())\n",
    "print(\"Grades:\", student3.view_grades())"
   ]
  }
 ],
 "metadata": {
  "kernelspec": {
   "display_name": "Python 3 (ipykernel)",
   "language": "python",
   "name": "python3"
  },
  "language_info": {
   "codemirror_mode": {
    "name": "ipython",
    "version": 3
   },
   "file_extension": ".py",
   "mimetype": "text/x-python",
   "name": "python",
   "nbconvert_exporter": "python",
   "pygments_lexer": "ipython3",
   "version": "3.11.7"
  }
 },
 "nbformat": 4,
 "nbformat_minor": 5
}
